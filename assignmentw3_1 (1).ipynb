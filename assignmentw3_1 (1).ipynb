{
 "cells": [
  {
   "cell_type": "code",
   "execution_count": null,
   "id": "49ad2de1-2b72-4c05-b8c9-a029af32783a",
   "metadata": {},
   "outputs": [],
   "source": [
    "#Q1\n",
    "-The keyword used to create function is \"def\" short for define."
   ]
  },
  {
   "cell_type": "code",
   "execution_count": 11,
   "id": "9d53338b-3c69-4dc2-835e-90ce6d755c55",
   "metadata": {},
   "outputs": [],
   "source": [
    "def odd_num():\n",
    "    \"\"\"function to return a list of odd numbers in the range of 1 to 25.\"\"\" \n",
    "    l1=[25]\n",
    "    l2=[]\n",
    "    for i in range(25):\n",
    "        if i % 2 == 1:\n",
    "            l1.append(i)\n",
    "        else :\n",
    "            l2.append(i)\n",
    "    return l1        "
   ]
  },
  {
   "cell_type": "code",
   "execution_count": 12,
   "id": "6343ae51-8249-43e1-b5e3-6a5a00556d1c",
   "metadata": {},
   "outputs": [
    {
     "data": {
      "text/plain": [
       "[25, 1, 3, 5, 7, 9, 11, 13, 15, 17, 19, 21, 23]"
      ]
     },
     "execution_count": 12,
     "metadata": {},
     "output_type": "execute_result"
    }
   ],
   "source": [
    "odd_num()"
   ]
  },
  {
   "cell_type": "code",
   "execution_count": null,
   "id": "bdfb82a8-2a76-4dae-9045-ec3daa6f761a",
   "metadata": {},
   "outputs": [],
   "source": [
    "#Q2\n",
    "-*args (Non-keyworded variable-length arguments):*args is used in a function definition, it allows you to pass a\n",
    "variable number of arguments to that function, the arguments passed using args are treated as a tuple. \n",
    "we can use any name instead of \"args\", but the asterisk (*) is required to indicate that it represents multiple arguments.\n",
    "\n",
    "**kwargs (Keyworded variable-length arguments): Similar to *args, when **kwargs is used in a function definition, \n",
    "it allows you to pass a variable number of keyword arguments to that function.\n",
    "Inside the function, the keyword arguments passed using kwargs are treated as a dictionary."
   ]
  },
  {
   "cell_type": "code",
   "execution_count": 19,
   "id": "848676c9-2b48-4f7f-b8a2-ab1c0525fed4",
   "metadata": {},
   "outputs": [],
   "source": [
    "\"\"\"eg of *args function\"\"\"\n",
    "def my_function(*args):\n",
    "        return args\n"
   ]
  },
  {
   "cell_type": "code",
   "execution_count": 20,
   "id": "39fe1688-58ed-4b05-a779-e1a8722fd79c",
   "metadata": {},
   "outputs": [
    {
     "data": {
      "text/plain": [
       "(1, 2, 3)"
      ]
     },
     "execution_count": 20,
     "metadata": {},
     "output_type": "execute_result"
    }
   ],
   "source": [
    "my_function(1,2,3)"
   ]
  },
  {
   "cell_type": "code",
   "execution_count": 1,
   "id": "a7903246-2afa-4aeb-9059-e98cf3914fdd",
   "metadata": {},
   "outputs": [],
   "source": [
    "\"\"\"eg of **kargs function\"\"\"\n",
    "def my_function(**kwargs):\n",
    "    return kwargs"
   ]
  },
  {
   "cell_type": "code",
   "execution_count": 2,
   "id": "b24dadf5-d3af-4995-96f9-73221edef6db",
   "metadata": {},
   "outputs": [
    {
     "data": {
      "text/plain": [
       "{'a': 'abhishek', 'b': 'raj'}"
      ]
     },
     "execution_count": 2,
     "metadata": {},
     "output_type": "execute_result"
    }
   ],
   "source": [
    "my_function(a=\"abhishek\", b=\"raj\")"
   ]
  },
  {
   "cell_type": "code",
   "execution_count": null,
   "id": "5e578a56-50e1-48d3-9e63-02db64677c27",
   "metadata": {},
   "outputs": [],
   "source": [
    "#Q3\n",
    "-In Python, an iterator is an object that implements the iterator protocol, which consists of the __iter__() and __next__() methods. \n",
    "It allows you to iterate over a sequence of elements, such as a list, tuple, or custom-defined object, in a sequential manner.\n",
    "\n",
    "In Python, the method used to initialize the iterator object is __iter__(), and the method used for iteration is __next__().\n",
    "\n",
    "__iter__():\n",
    "The __iter__() method is called when an iterator object is created and returns the iterator object itself.\n",
    "It initializes the iterator's internal state and prepares it for iteration.\n",
    "\n",
    "__next__():\n",
    "The __next__() method is called to fetch the next element from the iterator.\n",
    "It advances the iterator's internal state and returns the next element in the sequence."
   ]
  },
  {
   "cell_type": "code",
   "execution_count": 27,
   "id": "dd01de37-b2bf-40bb-8d7c-45c49ef300d3",
   "metadata": {},
   "outputs": [],
   "source": [
    "given_list = [2,4,6,8,10,12,14,16,18,20]\n",
    "list_iter = iter(given_list)"
   ]
  },
  {
   "cell_type": "code",
   "execution_count": 28,
   "id": "ba971433-1195-4de5-8eb0-a3edea23781c",
   "metadata": {},
   "outputs": [
    {
     "data": {
      "text/plain": [
       "2"
      ]
     },
     "execution_count": 28,
     "metadata": {},
     "output_type": "execute_result"
    }
   ],
   "source": [
    "next(list_iter)"
   ]
  },
  {
   "cell_type": "code",
   "execution_count": 29,
   "id": "1cca60c6-4c34-4115-ace6-fc1ee9f2212a",
   "metadata": {},
   "outputs": [
    {
     "data": {
      "text/plain": [
       "4"
      ]
     },
     "execution_count": 29,
     "metadata": {},
     "output_type": "execute_result"
    }
   ],
   "source": [
    "next(list_iter)"
   ]
  },
  {
   "cell_type": "code",
   "execution_count": 30,
   "id": "d0ff930a-622e-4d3b-8034-72617e43415d",
   "metadata": {},
   "outputs": [
    {
     "data": {
      "text/plain": [
       "6"
      ]
     },
     "execution_count": 30,
     "metadata": {},
     "output_type": "execute_result"
    }
   ],
   "source": [
    "next(list_iter)"
   ]
  },
  {
   "cell_type": "code",
   "execution_count": 31,
   "id": "92db2879-2b6c-48e3-ad53-182b6f77ec5f",
   "metadata": {},
   "outputs": [
    {
     "data": {
      "text/plain": [
       "8"
      ]
     },
     "execution_count": 31,
     "metadata": {},
     "output_type": "execute_result"
    }
   ],
   "source": [
    "next(list_iter)"
   ]
  },
  {
   "cell_type": "code",
   "execution_count": 32,
   "id": "31794445-7760-4497-8eb6-fa236a848a3d",
   "metadata": {},
   "outputs": [
    {
     "data": {
      "text/plain": [
       "10"
      ]
     },
     "execution_count": 32,
     "metadata": {},
     "output_type": "execute_result"
    }
   ],
   "source": [
    "next(list_iter)"
   ]
  },
  {
   "cell_type": "code",
   "execution_count": null,
   "id": "23deea39-6a84-4e6f-96e2-7be992b71ecd",
   "metadata": {},
   "outputs": [],
   "source": [
    "#Q4\n",
    "-A generator function is a special type of function that generates an iterator object.\n",
    "Unlike regular functions that return a single value and then terminate, \n",
    "generator functions can pause and resume their execution, allowing for efficient memory usage and lazy evaluation.\n",
    "It uses the yield keyword instead of return to produce a sequence of values one at a time. "
   ]
  },
  {
   "cell_type": "code",
   "execution_count": 32,
   "id": "3bfd504f-add1-4f76-8217-d93e89ade5e5",
   "metadata": {},
   "outputs": [],
   "source": [
    "\"\"\"eg of generator functions\"\"\"\n",
    "def number_generator(n):\n",
    "    for i in range(n):\n",
    "        yield i\n"
   ]
  },
  {
   "cell_type": "code",
   "execution_count": 33,
   "id": "d36b3214-ea95-42dc-bfd4-c9cb47780e8d",
   "metadata": {},
   "outputs": [
    {
     "name": "stdout",
     "output_type": "stream",
     "text": [
      "0\n",
      "1\n",
      "2\n",
      "3\n",
      "4\n",
      "5\n",
      "6\n",
      "7\n",
      "8\n",
      "9\n"
     ]
    }
   ],
   "source": [
    "a= number_generator(10)\n",
    "for i in a:\n",
    "    print(i)"
   ]
  },
  {
   "cell_type": "code",
   "execution_count": 13,
   "id": "03608907-ea8e-4da9-af52-b2e049757144",
   "metadata": {},
   "outputs": [],
   "source": [
    "#Q5\n",
    "def prime_generator():\n",
    "    primes = []\n",
    "    for num in range(2, 1000):\n",
    "        is_prime = True\n",
    "        for i in primes:\n",
    "            if num % i == 0:\n",
    "                is_prime = False\n",
    "                break\n",
    "        if is_prime:\n",
    "            primes.append(num)\n",
    "            yield num\n"
   ]
  },
  {
   "cell_type": "code",
   "execution_count": 23,
   "id": "caa97665-3133-4327-8902-bb65ce375371",
   "metadata": {},
   "outputs": [],
   "source": [
    "generator = prime_generator()\n",
    "prime=[]\n",
    "\n",
    "for i in generator:\n",
    "    prime.append(i)\n",
    "    \n",
    "prime_iter = iter(prime)\n",
    "    \n"
   ]
  },
  {
   "cell_type": "code",
   "execution_count": 24,
   "id": "57877243-946f-453a-9185-ec05dfa243e3",
   "metadata": {},
   "outputs": [
    {
     "data": {
      "text/plain": [
       "2"
      ]
     },
     "execution_count": 24,
     "metadata": {},
     "output_type": "execute_result"
    }
   ],
   "source": [
    "next(prime_iter)"
   ]
  },
  {
   "cell_type": "code",
   "execution_count": 25,
   "id": "e4f6d86a-bc2b-40f7-817d-eda385f617f5",
   "metadata": {},
   "outputs": [
    {
     "data": {
      "text/plain": [
       "3"
      ]
     },
     "execution_count": 25,
     "metadata": {},
     "output_type": "execute_result"
    }
   ],
   "source": [
    "next(prime_iter)"
   ]
  },
  {
   "cell_type": "code",
   "execution_count": 26,
   "id": "6285f3e1-cd1d-446b-b2f1-f6a36e8309cd",
   "metadata": {},
   "outputs": [
    {
     "data": {
      "text/plain": [
       "5"
      ]
     },
     "execution_count": 26,
     "metadata": {},
     "output_type": "execute_result"
    }
   ],
   "source": [
    "next(prime_iter)"
   ]
  },
  {
   "cell_type": "code",
   "execution_count": 27,
   "id": "97d485c8-43d2-4b97-bde2-c4a3c2cf12f0",
   "metadata": {},
   "outputs": [
    {
     "data": {
      "text/plain": [
       "7"
      ]
     },
     "execution_count": 27,
     "metadata": {},
     "output_type": "execute_result"
    }
   ],
   "source": [
    "next(prime_iter)"
   ]
  },
  {
   "cell_type": "code",
   "execution_count": 28,
   "id": "5f3403f0-8c86-41b7-b44d-066173c96226",
   "metadata": {},
   "outputs": [
    {
     "data": {
      "text/plain": [
       "11"
      ]
     },
     "execution_count": 28,
     "metadata": {},
     "output_type": "execute_result"
    }
   ],
   "source": [
    "next(prime_iter)"
   ]
  },
  {
   "cell_type": "code",
   "execution_count": 29,
   "id": "2945eadb-6ab9-4482-a604-da1bac767936",
   "metadata": {},
   "outputs": [
    {
     "data": {
      "text/plain": [
       "13"
      ]
     },
     "execution_count": 29,
     "metadata": {},
     "output_type": "execute_result"
    }
   ],
   "source": [
    "next(prime_iter)"
   ]
  },
  {
   "cell_type": "code",
   "execution_count": 30,
   "id": "cb621442-f6b8-4f88-b12f-e870352cdf12",
   "metadata": {},
   "outputs": [
    {
     "data": {
      "text/plain": [
       "17"
      ]
     },
     "execution_count": 30,
     "metadata": {},
     "output_type": "execute_result"
    }
   ],
   "source": [
    "next(prime_iter)"
   ]
  },
  {
   "cell_type": "code",
   "execution_count": 31,
   "id": "99288d0c-1ac3-479c-b8be-9dd740f19ad3",
   "metadata": {},
   "outputs": [
    {
     "data": {
      "text/plain": [
       "19"
      ]
     },
     "execution_count": 31,
     "metadata": {},
     "output_type": "execute_result"
    }
   ],
   "source": [
    "next(prime_iter)"
   ]
  },
  {
   "cell_type": "code",
   "execution_count": 32,
   "id": "f6df1ba7-4cea-430c-a51b-163b257fd6eb",
   "metadata": {},
   "outputs": [
    {
     "data": {
      "text/plain": [
       "23"
      ]
     },
     "execution_count": 32,
     "metadata": {},
     "output_type": "execute_result"
    }
   ],
   "source": [
    "next(prime_iter)"
   ]
  },
  {
   "cell_type": "code",
   "execution_count": 33,
   "id": "6046bcd7-ce8b-430d-ba70-71b01c39ac30",
   "metadata": {},
   "outputs": [
    {
     "data": {
      "text/plain": [
       "29"
      ]
     },
     "execution_count": 33,
     "metadata": {},
     "output_type": "execute_result"
    }
   ],
   "source": [
    "next(prime_iter)"
   ]
  },
  {
   "cell_type": "code",
   "execution_count": 34,
   "id": "7f376f34-f6f9-4fd7-8963-ee51310596ad",
   "metadata": {},
   "outputs": [
    {
     "data": {
      "text/plain": [
       "31"
      ]
     },
     "execution_count": 34,
     "metadata": {},
     "output_type": "execute_result"
    }
   ],
   "source": [
    "next(prime_iter)"
   ]
  },
  {
   "cell_type": "code",
   "execution_count": 35,
   "id": "d7e8285e-a5c5-41b8-b2c5-9a225f1e2b7f",
   "metadata": {},
   "outputs": [
    {
     "data": {
      "text/plain": [
       "37"
      ]
     },
     "execution_count": 35,
     "metadata": {},
     "output_type": "execute_result"
    }
   ],
   "source": [
    "next(prime_iter)"
   ]
  },
  {
   "cell_type": "code",
   "execution_count": 36,
   "id": "64d1a6b4-e8f0-4aa6-a3cb-f681575eeb3f",
   "metadata": {},
   "outputs": [
    {
     "data": {
      "text/plain": [
       "41"
      ]
     },
     "execution_count": 36,
     "metadata": {},
     "output_type": "execute_result"
    }
   ],
   "source": [
    "next(prime_iter)"
   ]
  },
  {
   "cell_type": "code",
   "execution_count": 23,
   "id": "b18eb80e-8072-40af-b412-965ecfadf457",
   "metadata": {},
   "outputs": [],
   "source": [
    "#Q6\n",
    "\"\"\"using while \n",
    "findiing the fibonacci sequence\"\"\"\n",
    "\n",
    "def find_fib():\n",
    "    a,b=0,1\n",
    "    while True:\n",
    "        yield a\n",
    "        a,b=b,a+b"
   ]
  },
  {
   "cell_type": "code",
   "execution_count": 24,
   "id": "81c7b58e-bc1d-436b-8514-571502f45804",
   "metadata": {},
   "outputs": [],
   "source": [
    "fib=find_fib()"
   ]
  },
  {
   "cell_type": "code",
   "execution_count": 25,
   "id": "1de893d1-1529-433d-acfb-073bb61aec25",
   "metadata": {},
   "outputs": [
    {
     "name": "stdout",
     "output_type": "stream",
     "text": [
      "0\n",
      "1\n",
      "1\n",
      "2\n",
      "3\n",
      "5\n",
      "8\n",
      "13\n",
      "21\n",
      "34\n"
     ]
    }
   ],
   "source": [
    "for i  in range(10):\n",
    "    print(next(fib))"
   ]
  },
  {
   "cell_type": "code",
   "execution_count": 1,
   "id": "e360c105-b5ea-471b-84f4-f406f328b83a",
   "metadata": {},
   "outputs": [
    {
     "name": "stdout",
     "output_type": "stream",
     "text": [
      "['p', 'w', 's', 'k', 'i', 'l', 'l', 's']\n"
     ]
    }
   ],
   "source": [
    "#Q7\n",
    "string = 'pwskills'\n",
    "l=[]\n",
    "for i in string:\n",
    "    l.append(i)\n",
    "print(l)\n"
   ]
  },
  {
   "cell_type": "code",
   "execution_count": 10,
   "id": "825c6b08-1a5f-47b2-8262-90f7b3bf10a2",
   "metadata": {},
   "outputs": [
    {
     "name": "stdin",
     "output_type": "stream",
     "text": [
      "enter the number 121\n"
     ]
    },
    {
     "name": "stdout",
     "output_type": "stream",
     "text": [
      "given number is a palindrome\n"
     ]
    }
   ],
   "source": [
    "#Q8\n",
    "a = int(input(\"enter the number\"))\n",
    "reverse = 0\n",
    "x = a\n",
    "while(a>0):\n",
    "    reverse= (reverse*10) + a% 10\n",
    "    a= a//10\n",
    "    \n",
    "if x == reverse:\n",
    "    print(\"given number is a palindrome\")\n",
    "    \n",
    "else:\n",
    "    print(\"not a palindrome\")"
   ]
  },
  {
   "cell_type": "code",
   "execution_count": 2,
   "id": "8ebc1ec9-28a9-453c-9a07-ca6114fa02a6",
   "metadata": {},
   "outputs": [],
   "source": [
    "#Q9\n",
    "create_list=list(range(101))"
   ]
  },
  {
   "cell_type": "code",
   "execution_count": 3,
   "id": "c4f8bac2-634d-47dd-a15c-1d17acba9e1a",
   "metadata": {},
   "outputs": [
    {
     "data": {
      "text/plain": [
       "[0,\n",
       " 1,\n",
       " 2,\n",
       " 3,\n",
       " 4,\n",
       " 5,\n",
       " 6,\n",
       " 7,\n",
       " 8,\n",
       " 9,\n",
       " 10,\n",
       " 11,\n",
       " 12,\n",
       " 13,\n",
       " 14,\n",
       " 15,\n",
       " 16,\n",
       " 17,\n",
       " 18,\n",
       " 19,\n",
       " 20,\n",
       " 21,\n",
       " 22,\n",
       " 23,\n",
       " 24,\n",
       " 25,\n",
       " 26,\n",
       " 27,\n",
       " 28,\n",
       " 29,\n",
       " 30,\n",
       " 31,\n",
       " 32,\n",
       " 33,\n",
       " 34,\n",
       " 35,\n",
       " 36,\n",
       " 37,\n",
       " 38,\n",
       " 39,\n",
       " 40,\n",
       " 41,\n",
       " 42,\n",
       " 43,\n",
       " 44,\n",
       " 45,\n",
       " 46,\n",
       " 47,\n",
       " 48,\n",
       " 49,\n",
       " 50,\n",
       " 51,\n",
       " 52,\n",
       " 53,\n",
       " 54,\n",
       " 55,\n",
       " 56,\n",
       " 57,\n",
       " 58,\n",
       " 59,\n",
       " 60,\n",
       " 61,\n",
       " 62,\n",
       " 63,\n",
       " 64,\n",
       " 65,\n",
       " 66,\n",
       " 67,\n",
       " 68,\n",
       " 69,\n",
       " 70,\n",
       " 71,\n",
       " 72,\n",
       " 73,\n",
       " 74,\n",
       " 75,\n",
       " 76,\n",
       " 77,\n",
       " 78,\n",
       " 79,\n",
       " 80,\n",
       " 81,\n",
       " 82,\n",
       " 83,\n",
       " 84,\n",
       " 85,\n",
       " 86,\n",
       " 87,\n",
       " 88,\n",
       " 89,\n",
       " 90,\n",
       " 91,\n",
       " 92,\n",
       " 93,\n",
       " 94,\n",
       " 95,\n",
       " 96,\n",
       " 97,\n",
       " 98,\n",
       " 99,\n",
       " 100]"
      ]
     },
     "execution_count": 3,
     "metadata": {},
     "output_type": "execute_result"
    }
   ],
   "source": [
    "create_list"
   ]
  },
  {
   "cell_type": "code",
   "execution_count": 4,
   "id": "ff271a8a-b005-4501-8ebe-216727425387",
   "metadata": {},
   "outputs": [],
   "source": [
    "odd_numbers=list(filter(lambda x: x % 2 == 1 , create_list))"
   ]
  },
  {
   "cell_type": "code",
   "execution_count": 5,
   "id": "c9347af3-55ed-4640-b09d-4e3a6a345ddf",
   "metadata": {},
   "outputs": [
    {
     "data": {
      "text/plain": [
       "[1,\n",
       " 3,\n",
       " 5,\n",
       " 7,\n",
       " 9,\n",
       " 11,\n",
       " 13,\n",
       " 15,\n",
       " 17,\n",
       " 19,\n",
       " 21,\n",
       " 23,\n",
       " 25,\n",
       " 27,\n",
       " 29,\n",
       " 31,\n",
       " 33,\n",
       " 35,\n",
       " 37,\n",
       " 39,\n",
       " 41,\n",
       " 43,\n",
       " 45,\n",
       " 47,\n",
       " 49,\n",
       " 51,\n",
       " 53,\n",
       " 55,\n",
       " 57,\n",
       " 59,\n",
       " 61,\n",
       " 63,\n",
       " 65,\n",
       " 67,\n",
       " 69,\n",
       " 71,\n",
       " 73,\n",
       " 75,\n",
       " 77,\n",
       " 79,\n",
       " 81,\n",
       " 83,\n",
       " 85,\n",
       " 87,\n",
       " 89,\n",
       " 91,\n",
       " 93,\n",
       " 95,\n",
       " 97,\n",
       " 99]"
      ]
     },
     "execution_count": 5,
     "metadata": {},
     "output_type": "execute_result"
    }
   ],
   "source": [
    "odd_numbers"
   ]
  },
  {
   "cell_type": "code",
   "execution_count": null,
   "id": "5c71da0d-64c7-47ca-a46b-a3f5eee466ae",
   "metadata": {},
   "outputs": [],
   "source": []
  }
 ],
 "metadata": {
  "kernelspec": {
   "display_name": "Python 3 (ipykernel)",
   "language": "python",
   "name": "python3"
  },
  "language_info": {
   "codemirror_mode": {
    "name": "ipython",
    "version": 3
   },
   "file_extension": ".py",
   "mimetype": "text/x-python",
   "name": "python",
   "nbconvert_exporter": "python",
   "pygments_lexer": "ipython3",
   "version": "3.10.8"
  }
 },
 "nbformat": 4,
 "nbformat_minor": 5
}
